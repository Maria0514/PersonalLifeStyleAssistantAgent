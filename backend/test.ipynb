{
 "cells": [
  {
   "cell_type": "code",
   "execution_count": 16,
   "id": "f00eac9d",
   "metadata": {},
   "outputs": [
    {
     "name": "stdout",
     "output_type": "stream",
     "text": [
      "启用logprobs时出错: Error code: 400 - {'code': 20015, 'message': 'Value error, `top_logprobs` is not allowed.', 'data': None}\n",
      "该模型可能不支持logprobs参数\n"
     ]
    },
    {
     "name": "stderr",
     "output_type": "stream",
     "text": [
      "d:\\study\\LangChain\\.venv\\Lib\\site-packages\\IPython\\core\\interactiveshell.py:3639: UserWarning: Parameters {'top_logprobs', 'logprobs'} should be specified explicitly. Instead they were passed in as part of `model_kwargs` parameter.\n",
      "  if await self.run_code(code, result, async_=asy):\n"
     ]
    }
   ],
   "source": [
    "# 测试是否可以通过logprobs获取confidence信息\n",
    "llm_with_logprobs = ChatOpenAI(\n",
    "    base_url = silicon_flow_api_base,\n",
    "    api_key = SecretStr(silicon_flow_api_key),\n",
    "    model = \"Qwen/Qwen3-8B\",\n",
    "    model_kwargs={\n",
    "        \"logprobs\": True,  # 启用logprobs\n",
    "        \"top_logprobs\": 1   # 返回top 1的logprobs\n",
    "    }\n",
    ")\n",
    "\n",
    "try:\n",
    "    response_with_logprobs = await llm_with_logprobs.ainvoke(\"hi\")\n",
    "    print(\"启用logprobs后的response_metadata:\")\n",
    "    print(response_with_logprobs.response_metadata.get('logprobs'))\n",
    "except Exception as e:\n",
    "    print(f\"启用logprobs时出错: {e}\")\n",
    "    print(\"该模型可能不支持logprobs参数\")"
   ]
  },
  {
   "cell_type": "code",
   "execution_count": 1,
   "id": "0bcd0ae2",
   "metadata": {},
   "outputs": [],
   "source": [
    "from langchain_openai import ChatOpenAI\n",
    "from dotenv import load_dotenv\n",
    "from pydantic import SecretStr\n",
    "import os"
   ]
  },
  {
   "cell_type": "code",
   "execution_count": 2,
   "id": "668522bd",
   "metadata": {},
   "outputs": [],
   "source": [
    "load_dotenv()\n",
    "\n",
    "silicon_flow_api_key = os.getenv(\"SILICON_FLOW_API_KEY\")\n",
    "silicon_flow_api_base = os.getenv(\"SILICON_FLOW_API_BASE\")"
   ]
  },
  {
   "cell_type": "code",
   "execution_count": 5,
   "id": "c26febde",
   "metadata": {},
   "outputs": [
    {
     "data": {
      "text/plain": [
       "{'token_usage': {'completion_tokens': 151,\n",
       "  'prompt_tokens': 9,\n",
       "  'total_tokens': 160,\n",
       "  'completion_tokens_details': {'accepted_prediction_tokens': None,\n",
       "   'audio_tokens': None,\n",
       "   'reasoning_tokens': 105,\n",
       "   'rejected_prediction_tokens': None},\n",
       "  'prompt_tokens_details': None},\n",
       " 'model_name': 'Qwen/Qwen3-8B',\n",
       " 'system_fingerprint': '',\n",
       " 'id': '0198a2830a664eac76620b955f8d0dac',\n",
       " 'service_tier': None,\n",
       " 'finish_reason': 'stop',\n",
       " 'logprobs': None}"
      ]
     },
     "execution_count": 5,
     "metadata": {},
     "output_type": "execute_result"
    }
   ],
   "source": [
    "llm = ChatOpenAI(\n",
    "    base_url = silicon_flow_api_base,\n",
    "    api_key = SecretStr(silicon_flow_api_key),\n",
    "    model = \"Qwen/Qwen3-8B\",  # 模型名称\n",
    ")\n",
    "response = await llm.ainvoke(\"hi\")\n",
    "response.response_metadata"
   ]
  },
  {
   "cell_type": "code",
   "execution_count": 14,
   "id": "8628d064",
   "metadata": {},
   "outputs": [
    {
     "data": {
      "text/plain": [
       "AIMessage(content=\"\\n\\nHello! 😊 How can I assist you today? Whether you have questions, need help with something, or just want to chat about a topic, I'm here to help. Let me know what's on your mind!\", additional_kwargs={'refusal': None}, response_metadata={'token_usage': {'completion_tokens': 151, 'prompt_tokens': 9, 'total_tokens': 160, 'completion_tokens_details': {'accepted_prediction_tokens': None, 'audio_tokens': None, 'reasoning_tokens': 105, 'rejected_prediction_tokens': None}, 'prompt_tokens_details': None}, 'model_name': 'Qwen/Qwen3-8B', 'system_fingerprint': '', 'id': '0198a2830a664eac76620b955f8d0dac', 'service_tier': None, 'finish_reason': 'stop', 'logprobs': None}, id='run--f211842c-7ec8-4797-93c6-b5c981a57b0c-0', usage_metadata={'input_tokens': 9, 'output_tokens': 151, 'total_tokens': 160, 'input_token_details': {}, 'output_token_details': {'reasoning': 105}})"
      ]
     },
     "execution_count": 14,
     "metadata": {},
     "output_type": "execute_result"
    }
   ],
   "source": [
    "response"
   ]
  },
  {
   "cell_type": "code",
   "execution_count": 15,
   "id": "e4e8ee7e",
   "metadata": {},
   "outputs": [
    {
     "name": "stdout",
     "output_type": "stream",
     "text": [
      "response_metadata 的所有键:\n",
      "  token_usage: {'completion_tokens': 151, 'prompt_tokens': 9, 'total_tokens': 160, 'completion_tokens_details': {'accepted_prediction_tokens': None, 'audio_tokens': None, 'reasoning_tokens': 105, 'rejected_prediction_tokens': None}, 'prompt_tokens_details': None}\n",
      "  model_name: Qwen/Qwen3-8B\n",
      "  system_fingerprint: \n",
      "  id: 0198a2830a664eac76620b955f8d0dac\n",
      "  service_tier: None\n",
      "  finish_reason: stop\n",
      "  logprobs: None\n",
      "\n",
      "检查是否有confidence相关字段:\n",
      "找到的confidence相关键: []\n",
      "\n",
      "检查logprobs字段（可能包含confidence信息）:\n",
      "logprobs: None\n",
      "\n",
      "检查additional_kwargs:\n",
      "  refusal: None\n"
     ]
    }
   ],
   "source": [
    "# 检查response_metadata的所有字段\n",
    "print(\"response_metadata 的所有键:\")\n",
    "for key, value in response.response_metadata.items():\n",
    "    print(f\"  {key}: {value}\")\n",
    "\n",
    "print(\"\\n检查是否有confidence相关字段:\")\n",
    "confidence_keys = [k for k in response.response_metadata.keys() if 'confidence' in k.lower()]\n",
    "print(f\"找到的confidence相关键: {confidence_keys}\")\n",
    "\n",
    "print(\"\\n检查logprobs字段（可能包含confidence信息）:\")\n",
    "print(f\"logprobs: {response.response_metadata.get('logprobs')}\")\n",
    "\n",
    "print(\"\\n检查additional_kwargs:\")\n",
    "for key, value in response.additional_kwargs.items():\n",
    "    print(f\"  {key}: {value}\")"
   ]
  },
  {
   "cell_type": "code",
   "execution_count": 1,
   "id": "db237642",
   "metadata": {},
   "outputs": [
    {
     "name": "stdout",
     "output_type": "stream",
     "text": [
      "重新创建 Agent...\n",
      "开始处理消息...\n",
      "成功！\n"
     ]
    }
   ],
   "source": [
    "# 重新导入所有模块，确保使用最新版本\n",
    "import importlib\n",
    "import sys\n",
    "\n",
    "# 清除已导入的模块\n",
    "modules_to_reload = [\n",
    "    'agents.lifestyle_agent',\n",
    "    'tools',\n",
    "    'tools.calculator'\n",
    "]\n",
    "\n",
    "for module_name in modules_to_reload:\n",
    "    if module_name in sys.modules:\n",
    "        importlib.reload(sys.modules[module_name])\n",
    "\n",
    "from langchain_openai import ChatOpenAI\n",
    "from dotenv import load_dotenv\n",
    "from pydantic import SecretStr\n",
    "import os\n",
    "from tools import get_tools\n",
    "from langgraph.prebuilt import create_react_agent\n",
    "from langgraph.checkpoint.memory import MemorySaver\n",
    "\n",
    "load_dotenv()\n",
    "\n",
    "os.environ[\"LANGCHAIN_TRACING_V2\"] = \"true\"\n",
    "os.environ[\"LANGCHAIN_API_KEY\"] = os.getenv(\"LANGCHAIN_API_KEY\")\n",
    "silicon_flow_api_key = os.getenv(\"SILICON_FLOW_API_KEY\")\n",
    "silicon_flow_api_base = os.getenv(\"SILICON_FLOW_API_BASE\")\n",
    "\n",
    "# 重新导入 LifestyleAgent\n",
    "from agents.lifestyle_agent import LifestyleAgent\n",
    "\n",
    "print(\"重新创建 Agent...\")\n",
    "agent = LifestyleAgent()\n",
    "config = {\n",
    "    \"configurable\": {\n",
    "        \"thread_id\": \"123\"\n",
    "    }\n",
    "}\n",
    "\n",
    "print(\"开始处理消息...\")\n",
    "try:\n",
    "    response = await agent.process_message(message=\"hi\", config=config)\n",
    "    print(\"成功！\")\n",
    "except Exception as e:\n",
    "    print(f\"错误: {e}\")\n",
    "    import traceback\n",
    "    traceback.print_exc()"
   ]
  },
  {
   "cell_type": "code",
   "execution_count": 2,
   "id": "d0f3b18c",
   "metadata": {},
   "outputs": [],
   "source": [
    "response = await agent.process_message(message=\"5+10是多少\", config=config)"
   ]
  },
  {
   "cell_type": "code",
   "execution_count": 5,
   "id": "de31953d",
   "metadata": {},
   "outputs": [],
   "source": [
    "response = response[0]"
   ]
  },
  {
   "cell_type": "code",
   "execution_count": 7,
   "id": "6a9952d5",
   "metadata": {},
   "outputs": [],
   "source": [
    "messages = response['messages']"
   ]
  },
  {
   "cell_type": "code",
   "execution_count": 18,
   "id": "e658407d",
   "metadata": {},
   "outputs": [
    {
     "data": {
      "text/plain": [
       "[HumanMessage(content='hi', additional_kwargs={}, response_metadata={}, id='445e0fd5-2129-4c3e-a279-eb3e3accfe2a'),\n",
       " AIMessage(content='\\n\\nHello! How can I assist you today? If you have any questions or need calculations, feel free to ask!', additional_kwargs={'refusal': None}, response_metadata={'token_usage': {'completion_tokens': 111, 'prompt_tokens': 252, 'total_tokens': 363, 'completion_tokens_details': {'accepted_prediction_tokens': None, 'audio_tokens': None, 'reasoning_tokens': 87, 'rejected_prediction_tokens': None}, 'prompt_tokens_details': None}, 'model_name': 'Qwen/Qwen3-8B', 'system_fingerprint': '', 'id': '0198a39d0fa9e83a5105e1ec3d9338a8', 'service_tier': None, 'finish_reason': 'stop', 'logprobs': None}, id='run--cb0d041a-667f-4e32-86ef-da24d1400e79-0', usage_metadata={'input_tokens': 252, 'output_tokens': 111, 'total_tokens': 363, 'input_token_details': {}, 'output_token_details': {'reasoning': 87}}),\n",
       " HumanMessage(content='5+10是多少', additional_kwargs={}, response_metadata={}, id='a02f2275-047c-4152-a04b-6129c5182cf3'),\n",
       " AIMessage(content='\\n\\n', additional_kwargs={'tool_calls': [{'id': '0198a39dcb8c8a414de3c6769540f525', 'function': {'arguments': ' {\"expression\": \"5+10\"}', 'name': 'calculator'}, 'type': 'function', 'index': 0}], 'refusal': None}, response_metadata={'token_usage': {'completion_tokens': 346, 'prompt_tokens': 290, 'total_tokens': 636, 'completion_tokens_details': {'accepted_prediction_tokens': None, 'audio_tokens': None, 'reasoning_tokens': 335, 'rejected_prediction_tokens': None}, 'prompt_tokens_details': None}, 'model_name': 'Qwen/Qwen3-8B', 'system_fingerprint': '', 'id': '0198a39d62b07a5930b30a5584938ea5', 'service_tier': None, 'finish_reason': 'tool_calls', 'logprobs': None}, id='run--03636ef6-1d85-4fe2-9687-4436ceda3be5-0', tool_calls=[{'name': 'calculator', 'args': {'expression': '5+10'}, 'id': '0198a39dcb8c8a414de3c6769540f525', 'type': 'tool_call'}], usage_metadata={'input_tokens': 290, 'output_tokens': 346, 'total_tokens': 636, 'input_token_details': {}, 'output_token_details': {'reasoning': 335}}),\n",
       " ToolMessage(content='计算结果：15', name='calculator', id='91ab2456-0132-4718-b62a-04d9828e6d56', tool_call_id='0198a39dcb8c8a414de3c6769540f525'),\n",
       " AIMessage(content='\\n\\n5 + 10 的计算结果是 **15**。', additional_kwargs={'refusal': None}, response_metadata={'token_usage': {'completion_tokens': 121, 'prompt_tokens': 330, 'total_tokens': 451, 'completion_tokens_details': {'accepted_prediction_tokens': None, 'audio_tokens': None, 'reasoning_tokens': 106, 'rejected_prediction_tokens': None}, 'prompt_tokens_details': None}, 'model_name': 'Qwen/Qwen3-8B', 'system_fingerprint': '', 'id': '0198a39dcf2d087a24d5dfd3b1204c39', 'service_tier': None, 'finish_reason': 'stop', 'logprobs': None}, id='run--906b721c-43a1-4c09-9a50-e5bf2bacee96-0', usage_metadata={'input_tokens': 330, 'output_tokens': 121, 'total_tokens': 451, 'input_token_details': {}, 'output_token_details': {'reasoning': 106}})]"
      ]
     },
     "execution_count": 18,
     "metadata": {},
     "output_type": "execute_result"
    }
   ],
   "source": [
    "messages"
   ]
  },
  {
   "cell_type": "code",
   "execution_count": 13,
   "id": "ba47a06a",
   "metadata": {},
   "outputs": [
    {
     "data": {
      "text/plain": [
       "langchain_core.messages.ai.AIMessage"
      ]
     },
     "execution_count": 13,
     "metadata": {},
     "output_type": "execute_result"
    }
   ],
   "source": [
    "type(messages[1])"
   ]
  },
  {
   "cell_type": "code",
   "execution_count": 17,
   "id": "3eca5921",
   "metadata": {},
   "outputs": [
    {
     "data": {
      "text/plain": [
       "'\\n\\n5 + 10 的计算结果是 **15**。'"
      ]
     },
     "execution_count": 17,
     "metadata": {},
     "output_type": "execute_result"
    }
   ],
   "source": [
    "response['messages'][-1].content"
   ]
  },
  {
   "cell_type": "code",
   "execution_count": null,
   "id": "7ed85183",
   "metadata": {},
   "outputs": [],
   "source": [
    "# 调试：检查 LifestyleAgent 的实际代码\n",
    "import inspect\n",
    "from agents.lifestyle_agent import LifestyleAgent\n",
    "\n",
    "print(\"当前 LifestyleAgent.process_message 方法的源代码：\")\n",
    "print(inspect.getsource(LifestyleAgent.process_message))"
   ]
  },
  {
   "cell_type": "code",
   "execution_count": null,
   "id": "9c33a454",
   "metadata": {},
   "outputs": [],
   "source": [
    "# 临时修复：直接在 Notebook 中重新定义方法\n",
    "from langchain_core.messages import HumanMessage\n",
    "\n",
    "async def new_process_message(agent, message: str, config: dict = None):\n",
    "    \"\"\"临时的 process_message 方法\"\"\"\n",
    "    human_message = HumanMessage(content=message)\n",
    "    input_data = {\"messages\": [human_message]}\n",
    "    response = await agent.agent_executor.ainvoke(input_data, config=config)\n",
    "    return response\n",
    "\n",
    "# 测试修复后的方法\n",
    "print(\"使用临时修复的方法...\")\n",
    "try:\n",
    "    response = await new_process_message(agent, \"hi\", config)\n",
    "    print(\"成功！\")\n",
    "    print(f\"响应类型: {type(response)}\")\n",
    "    print(f\"响应: {response}\")\n",
    "except Exception as e:\n",
    "    print(f\"错误: {e}\")\n",
    "    import traceback\n",
    "    traceback.print_exc()"
   ]
  }
 ],
 "metadata": {
  "kernelspec": {
   "display_name": ".venv",
   "language": "python",
   "name": "python3"
  },
  "language_info": {
   "codemirror_mode": {
    "name": "ipython",
    "version": 3
   },
   "file_extension": ".py",
   "mimetype": "text/x-python",
   "name": "python",
   "nbconvert_exporter": "python",
   "pygments_lexer": "ipython3",
   "version": "3.12.5"
  }
 },
 "nbformat": 4,
 "nbformat_minor": 5
}
